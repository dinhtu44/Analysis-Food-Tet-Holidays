{
  "nbformat": 4,
  "nbformat_minor": 0,
  "metadata": {
    "colab": {
      "name": "epi_analysis.ipynb",
      "provenance": [],
      "collapsed_sections": []
    },
    "kernelspec": {
      "display_name": "Python 3",
      "name": "python3"
    }
  },
  "cells": [
    {
      "cell_type": "markdown",
      "metadata": {
        "id": "CcULXZEM4NLA"
      },
      "source": [
        "**EPICURIOUS: RECIPES WITH RATING AND NUTRITION DATASET <BR>**\n",
        "# **CLASSIFYING HOLIDAY-RELATED FOOD AND NON-HOLIDAY FOOD <br>**\n",
        "**(DROPPING VALUE-MISSING ROWS METHOD)** <BR>"
      ]
    },
    {
      "cell_type": "markdown",
      "metadata": {
        "id": "Gvko-NYmLU99"
      },
      "source": [
        "**CHANGE WORKING DIRECTORY**"
      ]
    },
    {
      "cell_type": "code",
      "metadata": {
        "colab": {
          "base_uri": "https://localhost:8080/"
        },
        "id": "89gOLAKtv5SC",
        "outputId": "d16d67c3-585c-4b03-a866-7e4c2ae02839"
      },
      "source": [
        "from google.colab import drive\n",
        "drive.mount('/content/drive')"
      ],
      "execution_count": null,
      "outputs": [
        {
          "output_type": "stream",
          "text": [
            "Mounted at /content/drive\n"
          ],
          "name": "stdout"
        }
      ]
    },
    {
      "cell_type": "code",
      "metadata": {
        "colab": {
          "base_uri": "https://localhost:8080/"
        },
        "id": "A4iiaV19mdFF",
        "outputId": "0294344c-314b-4021-e6f7-c203acc4dd31"
      },
      "source": [
        "%cd /content/drive/MyDrive/Colab Notebooks/recipe_nutrition"
      ],
      "execution_count": null,
      "outputs": [
        {
          "output_type": "stream",
          "text": [
            "/content/drive/MyDrive/Colab Notebooks/recipe_nutrition\n"
          ],
          "name": "stdout"
        }
      ]
    },
    {
      "cell_type": "markdown",
      "metadata": {
        "id": "X_z_g0qjLnuZ"
      },
      "source": [
        "**IMPORT LIBRARIES**"
      ]
    },
    {
      "cell_type": "code",
      "metadata": {
        "id": "K59mZqNGFrIm"
      },
      "source": [
        "import pandas as pd\n",
        "import numpy as np\n",
        "import matplotlib.pyplot as plt\n",
        "import seaborn as sns\n",
        "import joblib\n",
        "from sklearn.model_selection       import train_test_split\n",
        "from sklearn.preprocessing         import StandardScaler\n",
        "from sklearn.preprocessing         import RobustScaler\n",
        "from sklearn.preprocessing         import QuantileTransformer\n",
        "from sklearn.preprocessing         import PowerTransformer\n",
        "from sklearn.preprocessing         import MinMaxScaler\n",
        "from sklearn.preprocessing         import MaxAbsScaler\n",
        "from sklearn.pipeline              import Pipeline\n",
        "from sklearn.neighbors             import KNeighborsClassifier\n",
        "from sklearn.svm                   import SVC\n",
        "from sklearn.tree                  import DecisionTreeClassifier\n",
        "from sklearn.ensemble              import RandomForestClassifier\n",
        "from sklearn.naive_bayes           import GaussianNB\n",
        "from sklearn.discriminant_analysis import LinearDiscriminantAnalysis\n",
        "from sklearn.linear_model          import LogisticRegression\n",
        "from sklearn.metrics               import mean_squared_error\n",
        "from sklearn.model_selection       import cross_val_score"
      ],
      "execution_count": null,
      "outputs": []
    },
    {
      "cell_type": "markdown",
      "metadata": {
        "id": "eU2iGoSzFPG2"
      },
      "source": [
        "**COMBINE COLUMNS INTO HOLIDAY COLUMN AND SAVE NEW DATASET**"
      ]
    },
    {
      "cell_type": "code",
      "metadata": {
        "id": "y26BscVEF5gI"
      },
      "source": [
        "data_old = pd.read_csv('/content/drive/MyDrive/Colab Notebooks/recipe_nutrition/epi.csv')"
      ],
      "execution_count": null,
      "outputs": []
    },
    {
      "cell_type": "code",
      "metadata": {
        "id": "NFnyhmIWRuPo"
      },
      "source": [
        "selected_features = pd.read_csv('selected_features.txt',header=None).values.flatten().tolist()"
      ],
      "execution_count": null,
      "outputs": []
    },
    {
      "cell_type": "code",
      "metadata": {
        "id": "UOqkE3FJ92g4"
      },
      "source": [
        "holiday = [1.0 if data_old[selected_features].iloc[i,:].any() else 0.0 for i in range(data_old.shape[0])]"
      ],
      "execution_count": null,
      "outputs": []
    },
    {
      "cell_type": "code",
      "metadata": {
        "id": "ZDcWX_tb_UZ7"
      },
      "source": [
        "data_old = data_old.drop(columns=selected_features)"
      ],
      "execution_count": null,
      "outputs": []
    },
    {
      "cell_type": "code",
      "metadata": {
        "id": "2rrPZig4--RN"
      },
      "source": [
        "data_old['holiday'] = holiday"
      ],
      "execution_count": null,
      "outputs": []
    },
    {
      "cell_type": "code",
      "metadata": {
        "colab": {
          "base_uri": "https://localhost:8080/"
        },
        "id": "N6oiodRE_dZ7",
        "outputId": "7856d104-d0de-43fc-b507-0ce408edbd87"
      },
      "source": [
        "data_old.shape"
      ],
      "execution_count": null,
      "outputs": [
        {
          "output_type": "execute_result",
          "data": {
            "text/plain": [
              "(20052, 634)"
            ]
          },
          "metadata": {
            "tags": []
          },
          "execution_count": 105
        }
      ]
    },
    {
      "cell_type": "code",
      "metadata": {
        "id": "OIUTIKUF_IrB"
      },
      "source": [
        "data_old.to_csv('epi_new.csv',index=False)"
      ],
      "execution_count": null,
      "outputs": []
    },
    {
      "cell_type": "markdown",
      "metadata": {
        "id": "i3nxKVbQforp"
      },
      "source": [
        "**INSIGHTS**"
      ]
    },
    {
      "cell_type": "code",
      "metadata": {
        "id": "znX7juGbfoLz"
      },
      "source": [
        "top_recipes = pd.DataFrame({'recipe':data_old.iloc[:,0].values, 'frequency': data_old.iloc[:,6:].sum(axis=1).values}).sort_values(by='frequency',ascending=False).head(10)"
      ],
      "execution_count": null,
      "outputs": []
    },
    {
      "cell_type": "code",
      "metadata": {
        "colab": {
          "base_uri": "https://localhost:8080/",
          "height": 686
        },
        "id": "M9AagBjYfvVF",
        "outputId": "8f9c5019-6e2c-4fee-9d94-8cf8a56a61ad"
      },
      "source": [
        "top_recipes.plot.bar(x ='recipe', ylim=[29,38], figsize=(4,3))\n",
        "plt.title('Top recipes appearing in most categories',weight='bold', size = 10)\n",
        "plt.show()"
      ],
      "execution_count": null,
      "outputs": [
        {
          "output_type": "display_data",
          "data": {
            "image/png": "[encoded data removed]",
            "text/plain": [
              "<Figure size 400x300 with 1 Axes>"
            ]
          },
          "metadata": {
            "tags": [],
            "needs_background": "light"
          }
        }
      ]
    },
    {
      "cell_type": "code",
      "metadata": {
        "colab": {
          "base_uri": "https://localhost:8080/"
        },
        "id": "rgM10z4EiCE7",
        "outputId": "35e7eda4-1e30-4a08-a150-a7ec6d0b00ad"
      },
      "source": [
        "data_old.columns[6:]"
      ],
      "execution_count": null,
      "outputs": [
        {
          "output_type": "execute_result",
          "data": {
            "text/plain": [
              "Index(['#cakeweek', '#wasteless', '22-minute meals', '3-ingredient recipes',\n",
              "       '30 days of groceries', 'advance prep required', 'alabama', 'alaska',\n",
              "       'alcoholic', 'almond',\n",
              "       ...\n",
              "       'yellow squash', 'yogurt', 'yonkers', 'yuca', 'zucchini', 'cookbooks',\n",
              "       'leftovers', 'snack', 'snack week', 'turkey'],\n",
              "      dtype='object', length=674)"
            ]
          },
          "metadata": {
            "tags": []
          },
          "execution_count": 155
        }
      ]
    },
    {
      "cell_type": "code",
      "metadata": {
        "id": "7Rocj3Q2hfvs"
      },
      "source": [
        "top_features = pd.DataFrame({'feature':data_old.columns[6:], 'frequency': data_old.iloc[:,6:].sum().values}).sort_values(by='frequency',ascending=False).head(10)"
      ],
      "execution_count": null,
      "outputs": []
    },
    {
      "cell_type": "code",
      "metadata": {
        "colab": {
          "base_uri": "https://localhost:8080/",
          "height": 436
        },
        "id": "mqs6dcx4hcxo",
        "outputId": "7051d4d9-3d5e-424a-9091-0afe315f995c"
      },
      "source": [
        "top_features.plot.bar(x ='feature', ylim=[4000,10000], figsize=(4,3))\n",
        "plt.title('Top recipes appearing in most categories',weight='bold', size = 10)\n",
        "plt.show()"
      ],
      "execution_count": null,
      "outputs": [
        {
          "output_type": "display_data",
          "data": {
            "image/png": "[encoded data removed]",
            "text/plain": [
              "<Figure size 400x300 with 1 Axes>"
            ]
          },
          "metadata": {
            "tags": [],
            "needs_background": "light"
          }
        }
      ]
    },
    {
      "cell_type": "markdown",
      "metadata": {
        "id": "vi5DRCb5FoxR"
      },
      "source": [
        "**LOAD NEW DATASET**"
      ]
    },
    {
      "cell_type": "code",
      "metadata": {
        "id": "Zfi4R-gzqGoK"
      },
      "source": [
        "data = pd.read_csv('/content/drive/MyDrive/Colab Notebooks/recipe_nutrition/epi_new.csv')"
      ],
      "execution_count": null,
      "outputs": []
    },
    {
      "cell_type": "markdown",
      "metadata": {
        "id": "VfJH8V8LGFtj"
      },
      "source": [
        "**PREPROCESSING**"
      ]
    },
    {
      "cell_type": "code",
      "metadata": {
        "id": "AgZnLJ-8uv_7"
      },
      "source": [
        "data = data.dropna()"
      ],
      "execution_count": null,
      "outputs": []
    },
    {
      "cell_type": "code",
      "metadata": {
        "id": "DYgTKI8p3A2L"
      },
      "source": [
        "data = data.drop(columns=['title', 'rating'])"
      ],
      "execution_count": null,
      "outputs": []
    },
    {
      "cell_type": "code",
      "metadata": {
        "colab": {
          "base_uri": "https://localhost:8080/"
        },
        "id": "Rd2Q_ne4JY7z",
        "outputId": "48a5eafb-78fb-4cf2-fcbb-88f88b890997"
      },
      "source": [
        "data[data['holiday']==1].iloc[0,:]"
      ],
      "execution_count": null,
      "outputs": [
        {
          "output_type": "execute_result",
          "data": {
            "text/plain": [
              "calories       403.0\n",
              "protein         18.0\n",
              "fat             23.0\n",
              "sodium        1439.0\n",
              "#wasteless       0.0\n",
              "               ...  \n",
              "leftovers        0.0\n",
              "snack            0.0\n",
              "snack week       0.0\n",
              "turkey           0.0\n",
              "holiday          1.0\n",
              "Name: 1, Length: 632, dtype: float64"
            ]
          },
          "metadata": {
            "tags": []
          },
          "execution_count": 32
        }
      ]
    },
    {
      "cell_type": "markdown",
      "metadata": {
        "id": "r357qmXrF7zv"
      },
      "source": [
        "**FIND BEST CORRELATED ATTRIBUTES**"
      ]
    },
    {
      "cell_type": "code",
      "metadata": {
        "id": "q2n8js-8wFwV"
      },
      "source": [
        "corr = data.corr()['holiday']"
      ],
      "execution_count": null,
      "outputs": []
    },
    {
      "cell_type": "code",
      "metadata": {
        "id": "mbIBJTCO7dCS"
      },
      "source": [
        "corr = pd.DataFrame(corr)\n",
        "corr['abs'] = abs(corr.values)"
      ],
      "execution_count": null,
      "outputs": []
    },
    {
      "cell_type": "code",
      "metadata": {
        "id": "iIlHz_VICVUb"
      },
      "source": [
        "top_corr = corr.dropna().sort_values(by='abs',ascending=False)['holiday'].iloc[1:13]"
      ],
      "execution_count": null,
      "outputs": []
    },
    {
      "cell_type": "code",
      "metadata": {
        "colab": {
          "base_uri": "https://localhost:8080/",
          "height": 484
        },
        "id": "9lFrbZxbDLF1",
        "outputId": "df00c6b1-cff3-414d-ca90-f6968c433209"
      },
      "source": [
        "plt.figure(dpi=100)\n",
        "top_corr.plot.bar(title='Top 12 features having best correlation with \\'holiday\\'')\n",
        "plt.title('Top 12 features having best correlation with \\'holiday\\'', weight = 'bold', size = 10)\n",
        "plt.show()"
      ],
      "execution_count": null,
      "outputs": [
        {
          "output_type": "display_data",
          "data": {
            "image/png": "[encoded data removed]",
            "text/plain": [
              "<Figure size 600x400 with 1 Axes>"
            ]
          },
          "metadata": {
            "tags": [],
            "needs_background": "light"
          }
        }
      ]
    },
    {
      "cell_type": "markdown",
      "metadata": {
        "id": "u_1iVZ2TGKaz"
      },
      "source": [
        "**SPLIT DATASET INTO TRAIN AND TEST SET**"
      ]
    },
    {
      "cell_type": "code",
      "metadata": {
        "id": "TG4tkDg9zdg-"
      },
      "source": [
        "X = data.iloc[:,:-1]\n",
        "y = data.iloc[:,-1]"
      ],
      "execution_count": null,
      "outputs": []
    },
    {
      "cell_type": "code",
      "metadata": {
        "id": "kfkciiYMzPBH"
      },
      "source": [
        "X_train, X_test, y_train, y_test = train_test_split(X, y, stratify=y, test_size=0.2)"
      ],
      "execution_count": null,
      "outputs": []
    },
    {
      "cell_type": "markdown",
      "metadata": {
        "id": "P7-5BiZYGThh"
      },
      "source": [
        "**TRAINING**"
      ]
    },
    {
      "cell_type": "code",
      "metadata": {
        "id": "U548nohEOGop"
      },
      "source": [
        "!mkdir Linh_workspace/models"
      ],
      "execution_count": null,
      "outputs": []
    },
    {
      "cell_type": "code",
      "metadata": {
        "id": "AkdD1748NJOO"
      },
      "source": [
        "scalers = [['standard',StandardScaler()],\n",
        "           ['robust',RobustScaler()],\n",
        "           ['quantile',QuantileTransformer()],\n",
        "           ['power',PowerTransformer()],\n",
        "           ['minmax',MinMaxScaler()],\n",
        "           ['maxabs',MaxAbsScaler()]]\n",
        "models =  [['KNN',KNeighborsClassifier()],\n",
        "           ['SVC',SVC()],\n",
        "           ['DT',DecisionTreeClassifier()],\n",
        "           ['RF',RandomForestClassifier()],\n",
        "           ['GNB',GaussianNB()],\n",
        "           ['LDA',LinearDiscriminantAnalysis()],\n",
        "           ['LR',LogisticRegression()]]"
      ],
      "execution_count": null,
      "outputs": []
    },
    {
      "cell_type": "code",
      "metadata": {
        "id": "QfJsOx_EHC6-",
        "colab": {
          "base_uri": "https://localhost:8080/"
        },
        "outputId": "eae0927d-0c39-48f6-a84d-7b0126835244"
      },
      "source": [
        "for model in models:\n",
        "  for scaler in scalers:\n",
        "    name = model[0]+'_'+scaler[0]\n",
        "    print(name)\n",
        "    pipe = Pipeline([('scaler', scaler[1]), ('model', model[1])], verbose=True)\n",
        "    pipe.fit(X_train, y_train)\n",
        "    joblib.dump(pipe,'Linh_workspace/models/'+name+'.pkl')"
      ],
      "execution_count": null,
      "outputs": [
        {
          "output_type": "stream",
          "text": [
            "KNN_standard\n",
            "[Pipeline] ............ (step 1 of 2) Processing scaler, total=   0.2s\n",
            "[Pipeline] ............. (step 2 of 2) Processing model, total=   2.1s\n",
            "KNN_robust\n",
            "[Pipeline] ............ (step 1 of 2) Processing scaler, total=   0.4s\n",
            "[Pipeline] ............. (step 2 of 2) Processing model, total=   1.3s\n",
            "KNN_quantile\n",
            "[Pipeline] ............ (step 1 of 2) Processing scaler, total=   0.9s\n",
            "[Pipeline] ............. (step 2 of 2) Processing model, total=   1.6s\n",
            "KNN_power\n"
          ],
          "name": "stdout"
        },
        {
          "output_type": "stream",
          "text": [
            "/usr/local/lib/python3.6/dist-packages/sklearn/preprocessing/_data.py:2982: RuntimeWarning: divide by zero encountered in log\n",
            "  loglike = -n_samples / 2 * np.log(x_trans.var())\n"
          ],
          "name": "stderr"
        },
        {
          "output_type": "stream",
          "text": [
            "[Pipeline] ............ (step 1 of 2) Processing scaler, total=  16.2s\n",
            "[Pipeline] ............. (step 2 of 2) Processing model, total=   2.0s\n",
            "KNN_minmax\n",
            "[Pipeline] ............ (step 1 of 2) Processing scaler, total=   0.1s\n",
            "[Pipeline] ............. (step 2 of 2) Processing model, total=   1.4s\n",
            "KNN_maxabs\n",
            "[Pipeline] ............ (step 1 of 2) Processing scaler, total=   0.1s\n",
            "[Pipeline] ............. (step 2 of 2) Processing model, total=   1.6s\n",
            "SVC_standard\n",
            "[Pipeline] ............ (step 1 of 2) Processing scaler, total=   0.3s\n",
            "[Pipeline] ............. (step 2 of 2) Processing model, total= 2.6min\n",
            "SVC_robust\n",
            "[Pipeline] ............ (step 1 of 2) Processing scaler, total=   0.3s\n",
            "[Pipeline] ............. (step 2 of 2) Processing model, total= 2.0min\n",
            "SVC_quantile\n",
            "[Pipeline] ............ (step 1 of 2) Processing scaler, total=   0.9s\n",
            "[Pipeline] ............. (step 2 of 2) Processing model, total= 2.4min\n",
            "SVC_power\n"
          ],
          "name": "stdout"
        },
        {
          "output_type": "stream",
          "text": [
            "/usr/local/lib/python3.6/dist-packages/sklearn/preprocessing/_data.py:2982: RuntimeWarning: divide by zero encountered in log\n",
            "  loglike = -n_samples / 2 * np.log(x_trans.var())\n"
          ],
          "name": "stderr"
        },
        {
          "output_type": "stream",
          "text": [
            "[Pipeline] ............ (step 1 of 2) Processing scaler, total=  14.8s\n",
            "[Pipeline] ............. (step 2 of 2) Processing model, total= 2.5min\n",
            "SVC_minmax\n",
            "[Pipeline] ............ (step 1 of 2) Processing scaler, total=   0.1s\n",
            "[Pipeline] ............. (step 2 of 2) Processing model, total= 2.5min\n",
            "SVC_maxabs\n",
            "[Pipeline] ............ (step 1 of 2) Processing scaler, total=   0.1s\n",
            "[Pipeline] ............. (step 2 of 2) Processing model, total= 2.5min\n",
            "DT_standard\n",
            "[Pipeline] ............ (step 1 of 2) Processing scaler, total=   0.2s\n",
            "[Pipeline] ............. (step 2 of 2) Processing model, total=   1.2s\n",
            "DT_robust\n",
            "[Pipeline] ............ (step 1 of 2) Processing scaler, total=   0.3s\n",
            "[Pipeline] ............. (step 2 of 2) Processing model, total=   1.2s\n",
            "DT_quantile\n",
            "[Pipeline] ............ (step 1 of 2) Processing scaler, total=   0.8s\n",
            "[Pipeline] ............. (step 2 of 2) Processing model, total=   1.2s\n",
            "DT_power\n"
          ],
          "name": "stdout"
        },
        {
          "output_type": "stream",
          "text": [
            "/usr/local/lib/python3.6/dist-packages/sklearn/preprocessing/_data.py:2982: RuntimeWarning: divide by zero encountered in log\n",
            "  loglike = -n_samples / 2 * np.log(x_trans.var())\n"
          ],
          "name": "stderr"
        },
        {
          "output_type": "stream",
          "text": [
            "[Pipeline] ............ (step 1 of 2) Processing scaler, total=  15.3s\n",
            "[Pipeline] ............. (step 2 of 2) Processing model, total=   1.2s\n",
            "DT_minmax\n",
            "[Pipeline] ............ (step 1 of 2) Processing scaler, total=   0.1s\n",
            "[Pipeline] ............. (step 2 of 2) Processing model, total=   1.2s\n",
            "DT_maxabs\n",
            "[Pipeline] ............ (step 1 of 2) Processing scaler, total=   0.1s\n",
            "[Pipeline] ............. (step 2 of 2) Processing model, total=   1.2s\n",
            "RF_standard\n",
            "[Pipeline] ............ (step 1 of 2) Processing scaler, total=   0.2s\n",
            "[Pipeline] ............. (step 2 of 2) Processing model, total=   7.4s\n",
            "RF_robust\n",
            "[Pipeline] ............ (step 1 of 2) Processing scaler, total=   0.3s\n",
            "[Pipeline] ............. (step 2 of 2) Processing model, total=   7.2s\n",
            "RF_quantile\n",
            "[Pipeline] ............ (step 1 of 2) Processing scaler, total=   0.9s\n",
            "[Pipeline] ............. (step 2 of 2) Processing model, total=   7.2s\n",
            "RF_power\n"
          ],
          "name": "stdout"
        },
        {
          "output_type": "stream",
          "text": [
            "/usr/local/lib/python3.6/dist-packages/sklearn/preprocessing/_data.py:2982: RuntimeWarning: divide by zero encountered in log\n",
            "  loglike = -n_samples / 2 * np.log(x_trans.var())\n"
          ],
          "name": "stderr"
        },
        {
          "output_type": "stream",
          "text": [
            "[Pipeline] ............ (step 1 of 2) Processing scaler, total=  14.9s\n",
            "[Pipeline] ............. (step 2 of 2) Processing model, total=   7.0s\n",
            "RF_minmax\n",
            "[Pipeline] ............ (step 1 of 2) Processing scaler, total=   0.1s\n",
            "[Pipeline] ............. (step 2 of 2) Processing model, total=   7.1s\n",
            "RF_maxabs\n",
            "[Pipeline] ............ (step 1 of 2) Processing scaler, total=   0.1s\n",
            "[Pipeline] ............. (step 2 of 2) Processing model, total=   7.0s\n",
            "GNB_standard\n",
            "[Pipeline] ............ (step 1 of 2) Processing scaler, total=   0.2s\n",
            "[Pipeline] ............. (step 2 of 2) Processing model, total=   0.1s\n",
            "GNB_robust\n",
            "[Pipeline] ............ (step 1 of 2) Processing scaler, total=   0.4s\n",
            "[Pipeline] ............. (step 2 of 2) Processing model, total=   0.1s\n",
            "GNB_quantile\n",
            "[Pipeline] ............ (step 1 of 2) Processing scaler, total=   0.8s\n",
            "[Pipeline] ............. (step 2 of 2) Processing model, total=   0.1s\n",
            "GNB_power\n"
          ],
          "name": "stdout"
        },
        {
          "output_type": "stream",
          "text": [
            "/usr/local/lib/python3.6/dist-packages/sklearn/preprocessing/_data.py:2982: RuntimeWarning: divide by zero encountered in log\n",
            "  loglike = -n_samples / 2 * np.log(x_trans.var())\n"
          ],
          "name": "stderr"
        },
        {
          "output_type": "stream",
          "text": [
            "[Pipeline] ............ (step 1 of 2) Processing scaler, total=  15.3s\n",
            "[Pipeline] ............. (step 2 of 2) Processing model, total=   0.1s\n",
            "GNB_minmax\n",
            "[Pipeline] ............ (step 1 of 2) Processing scaler, total=   0.1s\n",
            "[Pipeline] ............. (step 2 of 2) Processing model, total=   0.1s\n",
            "GNB_maxabs\n",
            "[Pipeline] ............ (step 1 of 2) Processing scaler, total=   0.1s\n",
            "[Pipeline] ............. (step 2 of 2) Processing model, total=   0.1s\n",
            "LDA_standard\n",
            "[Pipeline] ............ (step 1 of 2) Processing scaler, total=   0.2s\n",
            "[Pipeline] ............. (step 2 of 2) Processing model, total=   2.8s\n",
            "LDA_robust\n",
            "[Pipeline] ............ (step 1 of 2) Processing scaler, total=   0.3s\n",
            "[Pipeline] ............. (step 2 of 2) Processing model, total=   2.7s\n",
            "LDA_quantile\n",
            "[Pipeline] ............ (step 1 of 2) Processing scaler, total=   0.9s\n",
            "[Pipeline] ............. (step 2 of 2) Processing model, total=   2.6s\n",
            "LDA_power\n"
          ],
          "name": "stdout"
        },
        {
          "output_type": "stream",
          "text": [
            "/usr/local/lib/python3.6/dist-packages/sklearn/preprocessing/_data.py:2982: RuntimeWarning: divide by zero encountered in log\n",
            "  loglike = -n_samples / 2 * np.log(x_trans.var())\n"
          ],
          "name": "stderr"
        },
        {
          "output_type": "stream",
          "text": [
            "[Pipeline] ............ (step 1 of 2) Processing scaler, total=  14.7s\n",
            "[Pipeline] ............. (step 2 of 2) Processing model, total=   2.7s\n",
            "LDA_minmax\n",
            "[Pipeline] ............ (step 1 of 2) Processing scaler, total=   0.1s\n",
            "[Pipeline] ............. (step 2 of 2) Processing model, total=   2.7s\n",
            "LDA_maxabs\n",
            "[Pipeline] ............ (step 1 of 2) Processing scaler, total=   0.1s\n",
            "[Pipeline] ............. (step 2 of 2) Processing model, total=   2.7s\n",
            "LR_standard\n",
            "[Pipeline] ............ (step 1 of 2) Processing scaler, total=   0.2s\n"
          ],
          "name": "stdout"
        },
        {
          "output_type": "stream",
          "text": [
            "/usr/local/lib/python3.6/dist-packages/sklearn/linear_model/_logistic.py:940: ConvergenceWarning: lbfgs failed to converge (status=1):\n",
            "STOP: TOTAL NO. of ITERATIONS REACHED LIMIT.\n",
            "\n",
            "Increase the number of iterations (max_iter) or scale the data as shown in:\n",
            "    https://scikit-learn.org/stable/modules/preprocessing.html\n",
            "Please also refer to the documentation for alternative solver options:\n",
            "    https://scikit-learn.org/stable/modules/linear_model.html#logistic-regression\n",
            "  extra_warning_msg=_LOGISTIC_SOLVER_CONVERGENCE_MSG)\n"
          ],
          "name": "stderr"
        },
        {
          "output_type": "stream",
          "text": [
            "[Pipeline] ............. (step 2 of 2) Processing model, total=   1.5s\n",
            "LR_robust\n",
            "[Pipeline] ............ (step 1 of 2) Processing scaler, total=   0.3s\n"
          ],
          "name": "stdout"
        },
        {
          "output_type": "stream",
          "text": [
            "/usr/local/lib/python3.6/dist-packages/sklearn/linear_model/_logistic.py:940: ConvergenceWarning: lbfgs failed to converge (status=1):\n",
            "STOP: TOTAL NO. of ITERATIONS REACHED LIMIT.\n",
            "\n",
            "Increase the number of iterations (max_iter) or scale the data as shown in:\n",
            "    https://scikit-learn.org/stable/modules/preprocessing.html\n",
            "Please also refer to the documentation for alternative solver options:\n",
            "    https://scikit-learn.org/stable/modules/linear_model.html#logistic-regression\n",
            "  extra_warning_msg=_LOGISTIC_SOLVER_CONVERGENCE_MSG)\n"
          ],
          "name": "stderr"
        },
        {
          "output_type": "stream",
          "text": [
            "[Pipeline] ............. (step 2 of 2) Processing model, total=   2.3s\n",
            "LR_quantile\n",
            "[Pipeline] ............ (step 1 of 2) Processing scaler, total=   0.9s\n"
          ],
          "name": "stdout"
        },
        {
          "output_type": "stream",
          "text": [
            "/usr/local/lib/python3.6/dist-packages/sklearn/linear_model/_logistic.py:940: ConvergenceWarning: lbfgs failed to converge (status=1):\n",
            "STOP: TOTAL NO. of ITERATIONS REACHED LIMIT.\n",
            "\n",
            "Increase the number of iterations (max_iter) or scale the data as shown in:\n",
            "    https://scikit-learn.org/stable/modules/preprocessing.html\n",
            "Please also refer to the documentation for alternative solver options:\n",
            "    https://scikit-learn.org/stable/modules/linear_model.html#logistic-regression\n",
            "  extra_warning_msg=_LOGISTIC_SOLVER_CONVERGENCE_MSG)\n"
          ],
          "name": "stderr"
        },
        {
          "output_type": "stream",
          "text": [
            "[Pipeline] ............. (step 2 of 2) Processing model, total=   1.5s\n",
            "LR_power\n"
          ],
          "name": "stdout"
        },
        {
          "output_type": "stream",
          "text": [
            "/usr/local/lib/python3.6/dist-packages/sklearn/preprocessing/_data.py:2982: RuntimeWarning: divide by zero encountered in log\n",
            "  loglike = -n_samples / 2 * np.log(x_trans.var())\n"
          ],
          "name": "stderr"
        },
        {
          "output_type": "stream",
          "text": [
            "[Pipeline] ............ (step 1 of 2) Processing scaler, total=  14.7s\n",
            "[Pipeline] ............. (step 2 of 2) Processing model, total=   1.5s\n",
            "LR_minmax\n",
            "[Pipeline] ............ (step 1 of 2) Processing scaler, total=   0.1s\n"
          ],
          "name": "stdout"
        },
        {
          "output_type": "stream",
          "text": [
            "/usr/local/lib/python3.6/dist-packages/sklearn/linear_model/_logistic.py:940: ConvergenceWarning: lbfgs failed to converge (status=1):\n",
            "STOP: TOTAL NO. of ITERATIONS REACHED LIMIT.\n",
            "\n",
            "Increase the number of iterations (max_iter) or scale the data as shown in:\n",
            "    https://scikit-learn.org/stable/modules/preprocessing.html\n",
            "Please also refer to the documentation for alternative solver options:\n",
            "    https://scikit-learn.org/stable/modules/linear_model.html#logistic-regression\n",
            "  extra_warning_msg=_LOGISTIC_SOLVER_CONVERGENCE_MSG)\n"
          ],
          "name": "stderr"
        },
        {
          "output_type": "stream",
          "text": [
            "[Pipeline] ............. (step 2 of 2) Processing model, total=   1.7s\n",
            "LR_maxabs\n",
            "[Pipeline] ............ (step 1 of 2) Processing scaler, total=   0.1s\n",
            "[Pipeline] ............. (step 2 of 2) Processing model, total=   1.5s\n"
          ],
          "name": "stdout"
        },
        {
          "output_type": "stream",
          "text": [
            "/usr/local/lib/python3.6/dist-packages/sklearn/linear_model/_logistic.py:940: ConvergenceWarning: lbfgs failed to converge (status=1):\n",
            "STOP: TOTAL NO. of ITERATIONS REACHED LIMIT.\n",
            "\n",
            "Increase the number of iterations (max_iter) or scale the data as shown in:\n",
            "    https://scikit-learn.org/stable/modules/preprocessing.html\n",
            "Please also refer to the documentation for alternative solver options:\n",
            "    https://scikit-learn.org/stable/modules/linear_model.html#logistic-regression\n",
            "  extra_warning_msg=_LOGISTIC_SOLVER_CONVERGENCE_MSG)\n"
          ],
          "name": "stderr"
        }
      ]
    },
    {
      "cell_type": "markdown",
      "metadata": {
        "id": "ZNF2j5kZerld"
      },
      "source": [
        "**VALIDATING**"
      ]
    },
    {
      "cell_type": "code",
      "metadata": {
        "id": "grVjS9BqSqBY",
        "colab": {
          "base_uri": "https://localhost:8080/"
        },
        "outputId": "1cca7239-4d06-4521-af46-02f6b23c6757"
      },
      "source": [
        "model_detail = []\n",
        "for model in models:\n",
        "  for scaler in scalers:\n",
        "    name = model[0]+'_'+scaler[0]\n",
        "    print(name)\n",
        "    pipe = joblib.load('Linh_workspace/models/'+name+'.pkl')\n",
        "    cv4 = cross_val_score(pipe[-1],X_test,y_test,cv=4)\n",
        "    cv5 = cross_val_score(pipe[-1],X_test,y_test,cv=5)\n",
        "    model_detail.append([name, pipe.score(X_test,y_test), str(round(cv4.mean(),2))+u'\\u00B1'+str(round(cv4.std(),2)), str(round(cv5.mean(),2))+u'\\u00B1'+str(round(cv5.std(),2))])"
      ],
      "execution_count": null,
      "outputs": [
        {
          "output_type": "stream",
          "text": [
            "KNN_standard\n",
            "KNN_robust\n",
            "KNN_quantile\n",
            "KNN_power\n",
            "KNN_minmax\n",
            "KNN_maxabs\n",
            "SVC_standard\n",
            "SVC_robust\n",
            "SVC_quantile\n",
            "SVC_power\n",
            "SVC_minmax\n",
            "SVC_maxabs\n",
            "DT_standard\n",
            "DT_robust\n",
            "DT_quantile\n",
            "DT_power\n",
            "DT_minmax\n",
            "DT_maxabs\n",
            "RF_standard\n",
            "RF_robust\n",
            "RF_quantile\n",
            "RF_power\n",
            "RF_minmax\n",
            "RF_maxabs\n",
            "GNB_standard\n",
            "GNB_robust\n",
            "GNB_quantile\n",
            "GNB_power\n",
            "GNB_minmax\n",
            "GNB_maxabs\n",
            "LDA_standard\n",
            "LDA_robust\n",
            "LDA_quantile\n",
            "LDA_power\n",
            "LDA_minmax\n",
            "LDA_maxabs\n",
            "LR_standard\n"
          ],
          "name": "stdout"
        },
        {
          "output_type": "stream",
          "text": [
            "/usr/local/lib/python3.6/dist-packages/sklearn/linear_model/_logistic.py:940: ConvergenceWarning: lbfgs failed to converge (status=1):\n",
            "STOP: TOTAL NO. of ITERATIONS REACHED LIMIT.\n",
            "\n",
            "Increase the number of iterations (max_iter) or scale the data as shown in:\n",
            "    https://scikit-learn.org/stable/modules/preprocessing.html\n",
            "Please also refer to the documentation for alternative solver options:\n",
            "    https://scikit-learn.org/stable/modules/linear_model.html#logistic-regression\n",
            "  extra_warning_msg=_LOGISTIC_SOLVER_CONVERGENCE_MSG)\n",
            "/usr/local/lib/python3.6/dist-packages/sklearn/linear_model/_logistic.py:940: ConvergenceWarning: lbfgs failed to converge (status=1):\n",
            "STOP: TOTAL NO. of ITERATIONS REACHED LIMIT.\n",
            "\n",
            "Increase the number of iterations (max_iter) or scale the data as shown in:\n",
            "    https://scikit-learn.org/stable/modules/preprocessing.html\n",
            "Please also refer to the documentation for alternative solver options:\n",
            "    https://scikit-learn.org/stable/modules/linear_model.html#logistic-regression\n",
            "  extra_warning_msg=_LOGISTIC_SOLVER_CONVERGENCE_MSG)\n",
            "/usr/local/lib/python3.6/dist-packages/sklearn/linear_model/_logistic.py:940: ConvergenceWarning: lbfgs failed to converge (status=1):\n",
            "STOP: TOTAL NO. of ITERATIONS REACHED LIMIT.\n",
            "\n",
            "Increase the number of iterations (max_iter) or scale the data as shown in:\n",
            "    https://scikit-learn.org/stable/modules/preprocessing.html\n",
            "Please also refer to the documentation for alternative solver options:\n",
            "    https://scikit-learn.org/stable/modules/linear_model.html#logistic-regression\n",
            "  extra_warning_msg=_LOGISTIC_SOLVER_CONVERGENCE_MSG)\n",
            "/usr/local/lib/python3.6/dist-packages/sklearn/linear_model/_logistic.py:940: ConvergenceWarning: lbfgs failed to converge (status=1):\n",
            "STOP: TOTAL NO. of ITERATIONS REACHED LIMIT.\n",
            "\n",
            "Increase the number of iterations (max_iter) or scale the data as shown in:\n",
            "    https://scikit-learn.org/stable/modules/preprocessing.html\n",
            "Please also refer to the documentation for alternative solver options:\n",
            "    https://scikit-learn.org/stable/modules/linear_model.html#logistic-regression\n",
            "  extra_warning_msg=_LOGISTIC_SOLVER_CONVERGENCE_MSG)\n",
            "/usr/local/lib/python3.6/dist-packages/sklearn/linear_model/_logistic.py:940: ConvergenceWarning: lbfgs failed to converge (status=1):\n",
            "STOP: TOTAL NO. of ITERATIONS REACHED LIMIT.\n",
            "\n",
            "Increase the number of iterations (max_iter) or scale the data as shown in:\n",
            "    https://scikit-learn.org/stable/modules/preprocessing.html\n",
            "Please also refer to the documentation for alternative solver options:\n",
            "    https://scikit-learn.org/stable/modules/linear_model.html#logistic-regression\n",
            "  extra_warning_msg=_LOGISTIC_SOLVER_CONVERGENCE_MSG)\n",
            "/usr/local/lib/python3.6/dist-packages/sklearn/linear_model/_logistic.py:940: ConvergenceWarning: lbfgs failed to converge (status=1):\n",
            "STOP: TOTAL NO. of ITERATIONS REACHED LIMIT.\n",
            "\n",
            "Increase the number of iterations (max_iter) or scale the data as shown in:\n",
            "    https://scikit-learn.org/stable/modules/preprocessing.html\n",
            "Please also refer to the documentation for alternative solver options:\n",
            "    https://scikit-learn.org/stable/modules/linear_model.html#logistic-regression\n",
            "  extra_warning_msg=_LOGISTIC_SOLVER_CONVERGENCE_MSG)\n",
            "/usr/local/lib/python3.6/dist-packages/sklearn/linear_model/_logistic.py:940: ConvergenceWarning: lbfgs failed to converge (status=1):\n",
            "STOP: TOTAL NO. of ITERATIONS REACHED LIMIT.\n",
            "\n",
            "Increase the number of iterations (max_iter) or scale the data as shown in:\n",
            "    https://scikit-learn.org/stable/modules/preprocessing.html\n",
            "Please also refer to the documentation for alternative solver options:\n",
            "    https://scikit-learn.org/stable/modules/linear_model.html#logistic-regression\n",
            "  extra_warning_msg=_LOGISTIC_SOLVER_CONVERGENCE_MSG)\n",
            "/usr/local/lib/python3.6/dist-packages/sklearn/linear_model/_logistic.py:940: ConvergenceWarning: lbfgs failed to converge (status=1):\n",
            "STOP: TOTAL NO. of ITERATIONS REACHED LIMIT.\n",
            "\n",
            "Increase the number of iterations (max_iter) or scale the data as shown in:\n",
            "    https://scikit-learn.org/stable/modules/preprocessing.html\n",
            "Please also refer to the documentation for alternative solver options:\n",
            "    https://scikit-learn.org/stable/modules/linear_model.html#logistic-regression\n",
            "  extra_warning_msg=_LOGISTIC_SOLVER_CONVERGENCE_MSG)\n"
          ],
          "name": "stderr"
        },
        {
          "output_type": "stream",
          "text": [
            "LR_robust\n"
          ],
          "name": "stdout"
        },
        {
          "output_type": "stream",
          "text": [
            "/usr/local/lib/python3.6/dist-packages/sklearn/linear_model/_logistic.py:940: ConvergenceWarning: lbfgs failed to converge (status=1):\n",
            "STOP: TOTAL NO. of ITERATIONS REACHED LIMIT.\n",
            "\n",
            "Increase the number of iterations (max_iter) or scale the data as shown in:\n",
            "    https://scikit-learn.org/stable/modules/preprocessing.html\n",
            "Please also refer to the documentation for alternative solver options:\n",
            "    https://scikit-learn.org/stable/modules/linear_model.html#logistic-regression\n",
            "  extra_warning_msg=_LOGISTIC_SOLVER_CONVERGENCE_MSG)\n",
            "/usr/local/lib/python3.6/dist-packages/sklearn/linear_model/_logistic.py:940: ConvergenceWarning: lbfgs failed to converge (status=1):\n",
            "STOP: TOTAL NO. of ITERATIONS REACHED LIMIT.\n",
            "\n",
            "Increase the number of iterations (max_iter) or scale the data as shown in:\n",
            "    https://scikit-learn.org/stable/modules/preprocessing.html\n",
            "Please also refer to the documentation for alternative solver options:\n",
            "    https://scikit-learn.org/stable/modules/linear_model.html#logistic-regression\n",
            "  extra_warning_msg=_LOGISTIC_SOLVER_CONVERGENCE_MSG)\n",
            "/usr/local/lib/python3.6/dist-packages/sklearn/linear_model/_logistic.py:940: ConvergenceWarning: lbfgs failed to converge (status=1):\n",
            "STOP: TOTAL NO. of ITERATIONS REACHED LIMIT.\n",
            "\n",
            "Increase the number of iterations (max_iter) or scale the data as shown in:\n",
            "    https://scikit-learn.org/stable/modules/preprocessing.html\n",
            "Please also refer to the documentation for alternative solver options:\n",
            "    https://scikit-learn.org/stable/modules/linear_model.html#logistic-regression\n",
            "  extra_warning_msg=_LOGISTIC_SOLVER_CONVERGENCE_MSG)\n",
            "/usr/local/lib/python3.6/dist-packages/sklearn/linear_model/_logistic.py:940: ConvergenceWarning: lbfgs failed to converge (status=1):\n",
            "STOP: TOTAL NO. of ITERATIONS REACHED LIMIT.\n",
            "\n",
            "Increase the number of iterations (max_iter) or scale the data as shown in:\n",
            "    https://scikit-learn.org/stable/modules/preprocessing.html\n",
            "Please also refer to the documentation for alternative solver options:\n",
            "    https://scikit-learn.org/stable/modules/linear_model.html#logistic-regression\n",
            "  extra_warning_msg=_LOGISTIC_SOLVER_CONVERGENCE_MSG)\n",
            "/usr/local/lib/python3.6/dist-packages/sklearn/linear_model/_logistic.py:940: ConvergenceWarning: lbfgs failed to converge (status=1):\n",
            "STOP: TOTAL NO. of ITERATIONS REACHED LIMIT.\n",
            "\n",
            "Increase the number of iterations (max_iter) or scale the data as shown in:\n",
            "    https://scikit-learn.org/stable/modules/preprocessing.html\n",
            "Please also refer to the documentation for alternative solver options:\n",
            "    https://scikit-learn.org/stable/modules/linear_model.html#logistic-regression\n",
            "  extra_warning_msg=_LOGISTIC_SOLVER_CONVERGENCE_MSG)\n",
            "/usr/local/lib/python3.6/dist-packages/sklearn/linear_model/_logistic.py:940: ConvergenceWarning: lbfgs failed to converge (status=1):\n",
            "STOP: TOTAL NO. of ITERATIONS REACHED LIMIT.\n",
            "\n",
            "Increase the number of iterations (max_iter) or scale the data as shown in:\n",
            "    https://scikit-learn.org/stable/modules/preprocessing.html\n",
            "Please also refer to the documentation for alternative solver options:\n",
            "    https://scikit-learn.org/stable/modules/linear_model.html#logistic-regression\n",
            "  extra_warning_msg=_LOGISTIC_SOLVER_CONVERGENCE_MSG)\n",
            "/usr/local/lib/python3.6/dist-packages/sklearn/linear_model/_logistic.py:940: ConvergenceWarning: lbfgs failed to converge (status=1):\n",
            "STOP: TOTAL NO. of ITERATIONS REACHED LIMIT.\n",
            "\n",
            "Increase the number of iterations (max_iter) or scale the data as shown in:\n",
            "    https://scikit-learn.org/stable/modules/preprocessing.html\n",
            "Please also refer to the documentation for alternative solver options:\n",
            "    https://scikit-learn.org/stable/modules/linear_model.html#logistic-regression\n",
            "  extra_warning_msg=_LOGISTIC_SOLVER_CONVERGENCE_MSG)\n",
            "/usr/local/lib/python3.6/dist-packages/sklearn/linear_model/_logistic.py:940: ConvergenceWarning: lbfgs failed to converge (status=1):\n",
            "STOP: TOTAL NO. of ITERATIONS REACHED LIMIT.\n",
            "\n",
            "Increase the number of iterations (max_iter) or scale the data as shown in:\n",
            "    https://scikit-learn.org/stable/modules/preprocessing.html\n",
            "Please also refer to the documentation for alternative solver options:\n",
            "    https://scikit-learn.org/stable/modules/linear_model.html#logistic-regression\n",
            "  extra_warning_msg=_LOGISTIC_SOLVER_CONVERGENCE_MSG)\n"
          ],
          "name": "stderr"
        },
        {
          "output_type": "stream",
          "text": [
            "LR_quantile\n"
          ],
          "name": "stdout"
        },
        {
          "output_type": "stream",
          "text": [
            "/usr/local/lib/python3.6/dist-packages/sklearn/linear_model/_logistic.py:940: ConvergenceWarning: lbfgs failed to converge (status=1):\n",
            "STOP: TOTAL NO. of ITERATIONS REACHED LIMIT.\n",
            "\n",
            "Increase the number of iterations (max_iter) or scale the data as shown in:\n",
            "    https://scikit-learn.org/stable/modules/preprocessing.html\n",
            "Please also refer to the documentation for alternative solver options:\n",
            "    https://scikit-learn.org/stable/modules/linear_model.html#logistic-regression\n",
            "  extra_warning_msg=_LOGISTIC_SOLVER_CONVERGENCE_MSG)\n",
            "/usr/local/lib/python3.6/dist-packages/sklearn/linear_model/_logistic.py:940: ConvergenceWarning: lbfgs failed to converge (status=1):\n",
            "STOP: TOTAL NO. of ITERATIONS REACHED LIMIT.\n",
            "\n",
            "Increase the number of iterations (max_iter) or scale the data as shown in:\n",
            "    https://scikit-learn.org/stable/modules/preprocessing.html\n",
            "Please also refer to the documentation for alternative solver options:\n",
            "    https://scikit-learn.org/stable/modules/linear_model.html#logistic-regression\n",
            "  extra_warning_msg=_LOGISTIC_SOLVER_CONVERGENCE_MSG)\n",
            "/usr/local/lib/python3.6/dist-packages/sklearn/linear_model/_logistic.py:940: ConvergenceWarning: lbfgs failed to converge (status=1):\n",
            "STOP: TOTAL NO. of ITERATIONS REACHED LIMIT.\n",
            "\n",
            "Increase the number of iterations (max_iter) or scale the data as shown in:\n",
            "    https://scikit-learn.org/stable/modules/preprocessing.html\n",
            "Please also refer to the documentation for alternative solver options:\n",
            "    https://scikit-learn.org/stable/modules/linear_model.html#logistic-regression\n",
            "  extra_warning_msg=_LOGISTIC_SOLVER_CONVERGENCE_MSG)\n",
            "/usr/local/lib/python3.6/dist-packages/sklearn/linear_model/_logistic.py:940: ConvergenceWarning: lbfgs failed to converge (status=1):\n",
            "STOP: TOTAL NO. of ITERATIONS REACHED LIMIT.\n",
            "\n",
            "Increase the number of iterations (max_iter) or scale the data as shown in:\n",
            "    https://scikit-learn.org/stable/modules/preprocessing.html\n",
            "Please also refer to the documentation for alternative solver options:\n",
            "    https://scikit-learn.org/stable/modules/linear_model.html#logistic-regression\n",
            "  extra_warning_msg=_LOGISTIC_SOLVER_CONVERGENCE_MSG)\n",
            "/usr/local/lib/python3.6/dist-packages/sklearn/linear_model/_logistic.py:940: ConvergenceWarning: lbfgs failed to converge (status=1):\n",
            "STOP: TOTAL NO. of ITERATIONS REACHED LIMIT.\n",
            "\n",
            "Increase the number of iterations (max_iter) or scale the data as shown in:\n",
            "    https://scikit-learn.org/stable/modules/preprocessing.html\n",
            "Please also refer to the documentation for alternative solver options:\n",
            "    https://scikit-learn.org/stable/modules/linear_model.html#logistic-regression\n",
            "  extra_warning_msg=_LOGISTIC_SOLVER_CONVERGENCE_MSG)\n",
            "/usr/local/lib/python3.6/dist-packages/sklearn/linear_model/_logistic.py:940: ConvergenceWarning: lbfgs failed to converge (status=1):\n",
            "STOP: TOTAL NO. of ITERATIONS REACHED LIMIT.\n",
            "\n",
            "Increase the number of iterations (max_iter) or scale the data as shown in:\n",
            "    https://scikit-learn.org/stable/modules/preprocessing.html\n",
            "Please also refer to the documentation for alternative solver options:\n",
            "    https://scikit-learn.org/stable/modules/linear_model.html#logistic-regression\n",
            "  extra_warning_msg=_LOGISTIC_SOLVER_CONVERGENCE_MSG)\n",
            "/usr/local/lib/python3.6/dist-packages/sklearn/linear_model/_logistic.py:940: ConvergenceWarning: lbfgs failed to converge (status=1):\n",
            "STOP: TOTAL NO. of ITERATIONS REACHED LIMIT.\n",
            "\n",
            "Increase the number of iterations (max_iter) or scale the data as shown in:\n",
            "    https://scikit-learn.org/stable/modules/preprocessing.html\n",
            "Please also refer to the documentation for alternative solver options:\n",
            "    https://scikit-learn.org/stable/modules/linear_model.html#logistic-regression\n",
            "  extra_warning_msg=_LOGISTIC_SOLVER_CONVERGENCE_MSG)\n",
            "/usr/local/lib/python3.6/dist-packages/sklearn/linear_model/_logistic.py:940: ConvergenceWarning: lbfgs failed to converge (status=1):\n",
            "STOP: TOTAL NO. of ITERATIONS REACHED LIMIT.\n",
            "\n",
            "Increase the number of iterations (max_iter) or scale the data as shown in:\n",
            "    https://scikit-learn.org/stable/modules/preprocessing.html\n",
            "Please also refer to the documentation for alternative solver options:\n",
            "    https://scikit-learn.org/stable/modules/linear_model.html#logistic-regression\n",
            "  extra_warning_msg=_LOGISTIC_SOLVER_CONVERGENCE_MSG)\n"
          ],
          "name": "stderr"
        },
        {
          "output_type": "stream",
          "text": [
            "LR_power\n"
          ],
          "name": "stdout"
        },
        {
          "output_type": "stream",
          "text": [
            "/usr/local/lib/python3.6/dist-packages/sklearn/linear_model/_logistic.py:940: ConvergenceWarning: lbfgs failed to converge (status=1):\n",
            "STOP: TOTAL NO. of ITERATIONS REACHED LIMIT.\n",
            "\n",
            "Increase the number of iterations (max_iter) or scale the data as shown in:\n",
            "    https://scikit-learn.org/stable/modules/preprocessing.html\n",
            "Please also refer to the documentation for alternative solver options:\n",
            "    https://scikit-learn.org/stable/modules/linear_model.html#logistic-regression\n",
            "  extra_warning_msg=_LOGISTIC_SOLVER_CONVERGENCE_MSG)\n",
            "/usr/local/lib/python3.6/dist-packages/sklearn/linear_model/_logistic.py:940: ConvergenceWarning: lbfgs failed to converge (status=1):\n",
            "STOP: TOTAL NO. of ITERATIONS REACHED LIMIT.\n",
            "\n",
            "Increase the number of iterations (max_iter) or scale the data as shown in:\n",
            "    https://scikit-learn.org/stable/modules/preprocessing.html\n",
            "Please also refer to the documentation for alternative solver options:\n",
            "    https://scikit-learn.org/stable/modules/linear_model.html#logistic-regression\n",
            "  extra_warning_msg=_LOGISTIC_SOLVER_CONVERGENCE_MSG)\n",
            "/usr/local/lib/python3.6/dist-packages/sklearn/linear_model/_logistic.py:940: ConvergenceWarning: lbfgs failed to converge (status=1):\n",
            "STOP: TOTAL NO. of ITERATIONS REACHED LIMIT.\n",
            "\n",
            "Increase the number of iterations (max_iter) or scale the data as shown in:\n",
            "    https://scikit-learn.org/stable/modules/preprocessing.html\n",
            "Please also refer to the documentation for alternative solver options:\n",
            "    https://scikit-learn.org/stable/modules/linear_model.html#logistic-regression\n",
            "  extra_warning_msg=_LOGISTIC_SOLVER_CONVERGENCE_MSG)\n",
            "/usr/local/lib/python3.6/dist-packages/sklearn/linear_model/_logistic.py:940: ConvergenceWarning: lbfgs failed to converge (status=1):\n",
            "STOP: TOTAL NO. of ITERATIONS REACHED LIMIT.\n",
            "\n",
            "Increase the number of iterations (max_iter) or scale the data as shown in:\n",
            "    https://scikit-learn.org/stable/modules/preprocessing.html\n",
            "Please also refer to the documentation for alternative solver options:\n",
            "    https://scikit-learn.org/stable/modules/linear_model.html#logistic-regression\n",
            "  extra_warning_msg=_LOGISTIC_SOLVER_CONVERGENCE_MSG)\n",
            "/usr/local/lib/python3.6/dist-packages/sklearn/linear_model/_logistic.py:940: ConvergenceWarning: lbfgs failed to converge (status=1):\n",
            "STOP: TOTAL NO. of ITERATIONS REACHED LIMIT.\n",
            "\n",
            "Increase the number of iterations (max_iter) or scale the data as shown in:\n",
            "    https://scikit-learn.org/stable/modules/preprocessing.html\n",
            "Please also refer to the documentation for alternative solver options:\n",
            "    https://scikit-learn.org/stable/modules/linear_model.html#logistic-regression\n",
            "  extra_warning_msg=_LOGISTIC_SOLVER_CONVERGENCE_MSG)\n",
            "/usr/local/lib/python3.6/dist-packages/sklearn/linear_model/_logistic.py:940: ConvergenceWarning: lbfgs failed to converge (status=1):\n",
            "STOP: TOTAL NO. of ITERATIONS REACHED LIMIT.\n",
            "\n",
            "Increase the number of iterations (max_iter) or scale the data as shown in:\n",
            "    https://scikit-learn.org/stable/modules/preprocessing.html\n",
            "Please also refer to the documentation for alternative solver options:\n",
            "    https://scikit-learn.org/stable/modules/linear_model.html#logistic-regression\n",
            "  extra_warning_msg=_LOGISTIC_SOLVER_CONVERGENCE_MSG)\n",
            "/usr/local/lib/python3.6/dist-packages/sklearn/linear_model/_logistic.py:940: ConvergenceWarning: lbfgs failed to converge (status=1):\n",
            "STOP: TOTAL NO. of ITERATIONS REACHED LIMIT.\n",
            "\n",
            "Increase the number of iterations (max_iter) or scale the data as shown in:\n",
            "    https://scikit-learn.org/stable/modules/preprocessing.html\n",
            "Please also refer to the documentation for alternative solver options:\n",
            "    https://scikit-learn.org/stable/modules/linear_model.html#logistic-regression\n",
            "  extra_warning_msg=_LOGISTIC_SOLVER_CONVERGENCE_MSG)\n",
            "/usr/local/lib/python3.6/dist-packages/sklearn/linear_model/_logistic.py:940: ConvergenceWarning: lbfgs failed to converge (status=1):\n",
            "STOP: TOTAL NO. of ITERATIONS REACHED LIMIT.\n",
            "\n",
            "Increase the number of iterations (max_iter) or scale the data as shown in:\n",
            "    https://scikit-learn.org/stable/modules/preprocessing.html\n",
            "Please also refer to the documentation for alternative solver options:\n",
            "    https://scikit-learn.org/stable/modules/linear_model.html#logistic-regression\n",
            "  extra_warning_msg=_LOGISTIC_SOLVER_CONVERGENCE_MSG)\n"
          ],
          "name": "stderr"
        },
        {
          "output_type": "stream",
          "text": [
            "LR_minmax\n"
          ],
          "name": "stdout"
        },
        {
          "output_type": "stream",
          "text": [
            "/usr/local/lib/python3.6/dist-packages/sklearn/linear_model/_logistic.py:940: ConvergenceWarning: lbfgs failed to converge (status=1):\n",
            "STOP: TOTAL NO. of ITERATIONS REACHED LIMIT.\n",
            "\n",
            "Increase the number of iterations (max_iter) or scale the data as shown in:\n",
            "    https://scikit-learn.org/stable/modules/preprocessing.html\n",
            "Please also refer to the documentation for alternative solver options:\n",
            "    https://scikit-learn.org/stable/modules/linear_model.html#logistic-regression\n",
            "  extra_warning_msg=_LOGISTIC_SOLVER_CONVERGENCE_MSG)\n",
            "/usr/local/lib/python3.6/dist-packages/sklearn/linear_model/_logistic.py:940: ConvergenceWarning: lbfgs failed to converge (status=1):\n",
            "STOP: TOTAL NO. of ITERATIONS REACHED LIMIT.\n",
            "\n",
            "Increase the number of iterations (max_iter) or scale the data as shown in:\n",
            "    https://scikit-learn.org/stable/modules/preprocessing.html\n",
            "Please also refer to the documentation for alternative solver options:\n",
            "    https://scikit-learn.org/stable/modules/linear_model.html#logistic-regression\n",
            "  extra_warning_msg=_LOGISTIC_SOLVER_CONVERGENCE_MSG)\n",
            "/usr/local/lib/python3.6/dist-packages/sklearn/linear_model/_logistic.py:940: ConvergenceWarning: lbfgs failed to converge (status=1):\n",
            "STOP: TOTAL NO. of ITERATIONS REACHED LIMIT.\n",
            "\n",
            "Increase the number of iterations (max_iter) or scale the data as shown in:\n",
            "    https://scikit-learn.org/stable/modules/preprocessing.html\n",
            "Please also refer to the documentation for alternative solver options:\n",
            "    https://scikit-learn.org/stable/modules/linear_model.html#logistic-regression\n",
            "  extra_warning_msg=_LOGISTIC_SOLVER_CONVERGENCE_MSG)\n",
            "/usr/local/lib/python3.6/dist-packages/sklearn/linear_model/_logistic.py:940: ConvergenceWarning: lbfgs failed to converge (status=1):\n",
            "STOP: TOTAL NO. of ITERATIONS REACHED LIMIT.\n",
            "\n",
            "Increase the number of iterations (max_iter) or scale the data as shown in:\n",
            "    https://scikit-learn.org/stable/modules/preprocessing.html\n",
            "Please also refer to the documentation for alternative solver options:\n",
            "    https://scikit-learn.org/stable/modules/linear_model.html#logistic-regression\n",
            "  extra_warning_msg=_LOGISTIC_SOLVER_CONVERGENCE_MSG)\n",
            "/usr/local/lib/python3.6/dist-packages/sklearn/linear_model/_logistic.py:940: ConvergenceWarning: lbfgs failed to converge (status=1):\n",
            "STOP: TOTAL NO. of ITERATIONS REACHED LIMIT.\n",
            "\n",
            "Increase the number of iterations (max_iter) or scale the data as shown in:\n",
            "    https://scikit-learn.org/stable/modules/preprocessing.html\n",
            "Please also refer to the documentation for alternative solver options:\n",
            "    https://scikit-learn.org/stable/modules/linear_model.html#logistic-regression\n",
            "  extra_warning_msg=_LOGISTIC_SOLVER_CONVERGENCE_MSG)\n",
            "/usr/local/lib/python3.6/dist-packages/sklearn/linear_model/_logistic.py:940: ConvergenceWarning: lbfgs failed to converge (status=1):\n",
            "STOP: TOTAL NO. of ITERATIONS REACHED LIMIT.\n",
            "\n",
            "Increase the number of iterations (max_iter) or scale the data as shown in:\n",
            "    https://scikit-learn.org/stable/modules/preprocessing.html\n",
            "Please also refer to the documentation for alternative solver options:\n",
            "    https://scikit-learn.org/stable/modules/linear_model.html#logistic-regression\n",
            "  extra_warning_msg=_LOGISTIC_SOLVER_CONVERGENCE_MSG)\n",
            "/usr/local/lib/python3.6/dist-packages/sklearn/linear_model/_logistic.py:940: ConvergenceWarning: lbfgs failed to converge (status=1):\n",
            "STOP: TOTAL NO. of ITERATIONS REACHED LIMIT.\n",
            "\n",
            "Increase the number of iterations (max_iter) or scale the data as shown in:\n",
            "    https://scikit-learn.org/stable/modules/preprocessing.html\n",
            "Please also refer to the documentation for alternative solver options:\n",
            "    https://scikit-learn.org/stable/modules/linear_model.html#logistic-regression\n",
            "  extra_warning_msg=_LOGISTIC_SOLVER_CONVERGENCE_MSG)\n",
            "/usr/local/lib/python3.6/dist-packages/sklearn/linear_model/_logistic.py:940: ConvergenceWarning: lbfgs failed to converge (status=1):\n",
            "STOP: TOTAL NO. of ITERATIONS REACHED LIMIT.\n",
            "\n",
            "Increase the number of iterations (max_iter) or scale the data as shown in:\n",
            "    https://scikit-learn.org/stable/modules/preprocessing.html\n",
            "Please also refer to the documentation for alternative solver options:\n",
            "    https://scikit-learn.org/stable/modules/linear_model.html#logistic-regression\n",
            "  extra_warning_msg=_LOGISTIC_SOLVER_CONVERGENCE_MSG)\n"
          ],
          "name": "stderr"
        },
        {
          "output_type": "stream",
          "text": [
            "LR_maxabs\n"
          ],
          "name": "stdout"
        },
        {
          "output_type": "stream",
          "text": [
            "/usr/local/lib/python3.6/dist-packages/sklearn/linear_model/_logistic.py:940: ConvergenceWarning: lbfgs failed to converge (status=1):\n",
            "STOP: TOTAL NO. of ITERATIONS REACHED LIMIT.\n",
            "\n",
            "Increase the number of iterations (max_iter) or scale the data as shown in:\n",
            "    https://scikit-learn.org/stable/modules/preprocessing.html\n",
            "Please also refer to the documentation for alternative solver options:\n",
            "    https://scikit-learn.org/stable/modules/linear_model.html#logistic-regression\n",
            "  extra_warning_msg=_LOGISTIC_SOLVER_CONVERGENCE_MSG)\n",
            "/usr/local/lib/python3.6/dist-packages/sklearn/linear_model/_logistic.py:940: ConvergenceWarning: lbfgs failed to converge (status=1):\n",
            "STOP: TOTAL NO. of ITERATIONS REACHED LIMIT.\n",
            "\n",
            "Increase the number of iterations (max_iter) or scale the data as shown in:\n",
            "    https://scikit-learn.org/stable/modules/preprocessing.html\n",
            "Please also refer to the documentation for alternative solver options:\n",
            "    https://scikit-learn.org/stable/modules/linear_model.html#logistic-regression\n",
            "  extra_warning_msg=_LOGISTIC_SOLVER_CONVERGENCE_MSG)\n",
            "/usr/local/lib/python3.6/dist-packages/sklearn/linear_model/_logistic.py:940: ConvergenceWarning: lbfgs failed to converge (status=1):\n",
            "STOP: TOTAL NO. of ITERATIONS REACHED LIMIT.\n",
            "\n",
            "Increase the number of iterations (max_iter) or scale the data as shown in:\n",
            "    https://scikit-learn.org/stable/modules/preprocessing.html\n",
            "Please also refer to the documentation for alternative solver options:\n",
            "    https://scikit-learn.org/stable/modules/linear_model.html#logistic-regression\n",
            "  extra_warning_msg=_LOGISTIC_SOLVER_CONVERGENCE_MSG)\n",
            "/usr/local/lib/python3.6/dist-packages/sklearn/linear_model/_logistic.py:940: ConvergenceWarning: lbfgs failed to converge (status=1):\n",
            "STOP: TOTAL NO. of ITERATIONS REACHED LIMIT.\n",
            "\n",
            "Increase the number of iterations (max_iter) or scale the data as shown in:\n",
            "    https://scikit-learn.org/stable/modules/preprocessing.html\n",
            "Please also refer to the documentation for alternative solver options:\n",
            "    https://scikit-learn.org/stable/modules/linear_model.html#logistic-regression\n",
            "  extra_warning_msg=_LOGISTIC_SOLVER_CONVERGENCE_MSG)\n",
            "/usr/local/lib/python3.6/dist-packages/sklearn/linear_model/_logistic.py:940: ConvergenceWarning: lbfgs failed to converge (status=1):\n",
            "STOP: TOTAL NO. of ITERATIONS REACHED LIMIT.\n",
            "\n",
            "Increase the number of iterations (max_iter) or scale the data as shown in:\n",
            "    https://scikit-learn.org/stable/modules/preprocessing.html\n",
            "Please also refer to the documentation for alternative solver options:\n",
            "    https://scikit-learn.org/stable/modules/linear_model.html#logistic-regression\n",
            "  extra_warning_msg=_LOGISTIC_SOLVER_CONVERGENCE_MSG)\n",
            "/usr/local/lib/python3.6/dist-packages/sklearn/linear_model/_logistic.py:940: ConvergenceWarning: lbfgs failed to converge (status=1):\n",
            "STOP: TOTAL NO. of ITERATIONS REACHED LIMIT.\n",
            "\n",
            "Increase the number of iterations (max_iter) or scale the data as shown in:\n",
            "    https://scikit-learn.org/stable/modules/preprocessing.html\n",
            "Please also refer to the documentation for alternative solver options:\n",
            "    https://scikit-learn.org/stable/modules/linear_model.html#logistic-regression\n",
            "  extra_warning_msg=_LOGISTIC_SOLVER_CONVERGENCE_MSG)\n",
            "/usr/local/lib/python3.6/dist-packages/sklearn/linear_model/_logistic.py:940: ConvergenceWarning: lbfgs failed to converge (status=1):\n",
            "STOP: TOTAL NO. of ITERATIONS REACHED LIMIT.\n",
            "\n",
            "Increase the number of iterations (max_iter) or scale the data as shown in:\n",
            "    https://scikit-learn.org/stable/modules/preprocessing.html\n",
            "Please also refer to the documentation for alternative solver options:\n",
            "    https://scikit-learn.org/stable/modules/linear_model.html#logistic-regression\n",
            "  extra_warning_msg=_LOGISTIC_SOLVER_CONVERGENCE_MSG)\n",
            "/usr/local/lib/python3.6/dist-packages/sklearn/linear_model/_logistic.py:940: ConvergenceWarning: lbfgs failed to converge (status=1):\n",
            "STOP: TOTAL NO. of ITERATIONS REACHED LIMIT.\n",
            "\n",
            "Increase the number of iterations (max_iter) or scale the data as shown in:\n",
            "    https://scikit-learn.org/stable/modules/preprocessing.html\n",
            "Please also refer to the documentation for alternative solver options:\n",
            "    https://scikit-learn.org/stable/modules/linear_model.html#logistic-regression\n",
            "  extra_warning_msg=_LOGISTIC_SOLVER_CONVERGENCE_MSG)\n"
          ],
          "name": "stderr"
        }
      ]
    },
    {
      "cell_type": "code",
      "metadata": {
        "id": "tF_k1C9M--Ov"
      },
      "source": [
        "scalers = ['StandardScaler',\n",
        "           'RobustScaler',\n",
        "           'QuantileTransformer',\n",
        "           'PowerTransformer',\n",
        "           'MinMaxScaler',\n",
        "           'MaxAbsScaler']\n",
        "models =  ['KNeighborsClassifier',\n",
        "           'SVC',\n",
        "           'DecisionTreeClassifier',\n",
        "           'RandomForestClassifier',\n",
        "           'GaussianNB',\n",
        "           'LinearDiscriminantAnalysis',\n",
        "           'LogisticRegression']"
      ],
      "execution_count": null,
      "outputs": []
    },
    {
      "cell_type": "code",
      "metadata": {
        "id": "XdTjpwJptbNx"
      },
      "source": [
        "results = pd.DataFrame(model_detail,columns=['Model name', 'Accuracy', '4-fold validation', '5-fold validation'])"
      ],
      "execution_count": null,
      "outputs": []
    },
    {
      "cell_type": "code",
      "metadata": {
        "id": "HsLS01-cCPU4"
      },
      "source": [
        "results['Model used'] = [model for model in models for i in range(len(scalers))]"
      ],
      "execution_count": null,
      "outputs": []
    },
    {
      "cell_type": "code",
      "metadata": {
        "id": "JcGBAgXrDLFh"
      },
      "source": [
        "results['Normalization method'] = [scaler for i in range(len(models)) for scaler in scalers]"
      ],
      "execution_count": null,
      "outputs": []
    },
    {
      "cell_type": "code",
      "metadata": {
        "id": "7wGEPDmUKzoD"
      },
      "source": [
        "temp = pd.read_csv('/content/time_output.txt',header=None)\n",
        "results['Training time (s)'] = [round(temp.iloc[2*i,0]+temp.iloc[2*i+1,0],1) for i in range(len(models)*len(scalers))]"
      ],
      "execution_count": null,
      "outputs": []
    },
    {
      "cell_type": "code",
      "metadata": {
        "id": "217gCPYMHOYd"
      },
      "source": [
        "results = results.iloc[:,[0,-3,-2,-1,1,2,3]]"
      ],
      "execution_count": null,
      "outputs": []
    },
    {
      "cell_type": "code",
      "metadata": {
        "colab": {
          "base_uri": "https://localhost:8080/",
          "height": 639
        },
        "id": "rgdalSpSMfr0",
        "outputId": "06824f5b-76b1-42c6-f108-13038b866035"
      },
      "source": [
        "results.sort_values(by='Accuracy',ascending=False).iloc[:20,:]"
      ],
      "execution_count": null,
      "outputs": [
        {
          "output_type": "execute_result",
          "data": {
            "text/html": [
              "<div>\n",
              "<style scoped>\n",
              "    .dataframe tbody tr th:only-of-type {\n",
              "        vertical-align: middle;\n",
              "    }\n",
              "\n",
              "    .dataframe tbody tr th {\n",
              "        vertical-align: top;\n",
              "    }\n",
              "\n",
              "    .dataframe thead th {\n",
              "        text-align: right;\n",
              "    }\n",
              "</style>\n",
              "<table border=\"1\" class=\"dataframe\">\n",
              "  <thead>\n",
              "    <tr style=\"text-align: right;\">\n",
              "      <th></th>\n",
              "      <th>Model name</th>\n",
              "      <th>Model used</th>\n",
              "      <th>Normalization method</th>\n",
              "      <th>Training time (s)</th>\n",
              "      <th>Accuracy</th>\n",
              "      <th>4-fold validation</th>\n",
              "      <th>5-fold validation</th>\n",
              "    </tr>\n",
              "  </thead>\n",
              "  <tbody>\n",
              "    <tr>\n",
              "      <th>19</th>\n",
              "      <td>RF_robust</td>\n",
              "      <td>RandomForestClassifier</td>\n",
              "      <td>RobustScaler</td>\n",
              "      <td>7.5</td>\n",
              "      <td>0.956823</td>\n",
              "      <td>0.74±0.0</td>\n",
              "      <td>0.74±0.01</td>\n",
              "    </tr>\n",
              "    <tr>\n",
              "      <th>18</th>\n",
              "      <td>RF_standard</td>\n",
              "      <td>RandomForestClassifier</td>\n",
              "      <td>StandardScaler</td>\n",
              "      <td>7.6</td>\n",
              "      <td>0.955247</td>\n",
              "      <td>0.75±0.0</td>\n",
              "      <td>0.75±0.01</td>\n",
              "    </tr>\n",
              "    <tr>\n",
              "      <th>22</th>\n",
              "      <td>RF_minmax</td>\n",
              "      <td>RandomForestClassifier</td>\n",
              "      <td>MinMaxScaler</td>\n",
              "      <td>7.2</td>\n",
              "      <td>0.954932</td>\n",
              "      <td>0.75±0.0</td>\n",
              "      <td>0.75±0.01</td>\n",
              "    </tr>\n",
              "    <tr>\n",
              "      <th>20</th>\n",
              "      <td>RF_quantile</td>\n",
              "      <td>RandomForestClassifier</td>\n",
              "      <td>QuantileTransformer</td>\n",
              "      <td>8.1</td>\n",
              "      <td>0.954617</td>\n",
              "      <td>0.74±0.0</td>\n",
              "      <td>0.75±0.01</td>\n",
              "    </tr>\n",
              "    <tr>\n",
              "      <th>21</th>\n",
              "      <td>RF_power</td>\n",
              "      <td>RandomForestClassifier</td>\n",
              "      <td>PowerTransformer</td>\n",
              "      <td>21.9</td>\n",
              "      <td>0.954302</td>\n",
              "      <td>0.75±0.01</td>\n",
              "      <td>0.75±0.01</td>\n",
              "    </tr>\n",
              "    <tr>\n",
              "      <th>23</th>\n",
              "      <td>RF_maxabs</td>\n",
              "      <td>RandomForestClassifier</td>\n",
              "      <td>MaxAbsScaler</td>\n",
              "      <td>7.1</td>\n",
              "      <td>0.953987</td>\n",
              "      <td>0.75±0.01</td>\n",
              "      <td>0.75±0.01</td>\n",
              "    </tr>\n",
              "    <tr>\n",
              "      <th>15</th>\n",
              "      <td>DT_power</td>\n",
              "      <td>DecisionTreeClassifier</td>\n",
              "      <td>PowerTransformer</td>\n",
              "      <td>16.5</td>\n",
              "      <td>0.951781</td>\n",
              "      <td>0.66±0.02</td>\n",
              "      <td>0.67±0.02</td>\n",
              "    </tr>\n",
              "    <tr>\n",
              "      <th>14</th>\n",
              "      <td>DT_quantile</td>\n",
              "      <td>DecisionTreeClassifier</td>\n",
              "      <td>QuantileTransformer</td>\n",
              "      <td>2.0</td>\n",
              "      <td>0.951150</td>\n",
              "      <td>0.67±0.02</td>\n",
              "      <td>0.66±0.02</td>\n",
              "    </tr>\n",
              "    <tr>\n",
              "      <th>12</th>\n",
              "      <td>DT_standard</td>\n",
              "      <td>DecisionTreeClassifier</td>\n",
              "      <td>StandardScaler</td>\n",
              "      <td>1.4</td>\n",
              "      <td>0.949259</td>\n",
              "      <td>0.66±0.01</td>\n",
              "      <td>0.67±0.02</td>\n",
              "    </tr>\n",
              "    <tr>\n",
              "      <th>13</th>\n",
              "      <td>DT_robust</td>\n",
              "      <td>DecisionTreeClassifier</td>\n",
              "      <td>RobustScaler</td>\n",
              "      <td>1.5</td>\n",
              "      <td>0.948944</td>\n",
              "      <td>0.66±0.01</td>\n",
              "      <td>0.66±0.01</td>\n",
              "    </tr>\n",
              "    <tr>\n",
              "      <th>16</th>\n",
              "      <td>DT_minmax</td>\n",
              "      <td>DecisionTreeClassifier</td>\n",
              "      <td>MinMaxScaler</td>\n",
              "      <td>1.3</td>\n",
              "      <td>0.942326</td>\n",
              "      <td>0.67±0.01</td>\n",
              "      <td>0.66±0.02</td>\n",
              "    </tr>\n",
              "    <tr>\n",
              "      <th>17</th>\n",
              "      <td>DT_maxabs</td>\n",
              "      <td>DecisionTreeClassifier</td>\n",
              "      <td>MaxAbsScaler</td>\n",
              "      <td>1.3</td>\n",
              "      <td>0.941065</td>\n",
              "      <td>0.66±0.02</td>\n",
              "      <td>0.67±0.02</td>\n",
              "    </tr>\n",
              "    <tr>\n",
              "      <th>39</th>\n",
              "      <td>LR_power</td>\n",
              "      <td>LogisticRegression</td>\n",
              "      <td>PowerTransformer</td>\n",
              "      <td>16.2</td>\n",
              "      <td>0.772455</td>\n",
              "      <td>0.69±0.01</td>\n",
              "      <td>0.69±0.01</td>\n",
              "    </tr>\n",
              "    <tr>\n",
              "      <th>32</th>\n",
              "      <td>LDA_quantile</td>\n",
              "      <td>LinearDiscriminantAnalysis</td>\n",
              "      <td>QuantileTransformer</td>\n",
              "      <td>3.5</td>\n",
              "      <td>0.772140</td>\n",
              "      <td>0.71±0.01</td>\n",
              "      <td>0.71±0.01</td>\n",
              "    </tr>\n",
              "    <tr>\n",
              "      <th>38</th>\n",
              "      <td>LR_quantile</td>\n",
              "      <td>LogisticRegression</td>\n",
              "      <td>QuantileTransformer</td>\n",
              "      <td>2.4</td>\n",
              "      <td>0.771510</td>\n",
              "      <td>0.69±0.01</td>\n",
              "      <td>0.69±0.01</td>\n",
              "    </tr>\n",
              "    <tr>\n",
              "      <th>33</th>\n",
              "      <td>LDA_power</td>\n",
              "      <td>LinearDiscriminantAnalysis</td>\n",
              "      <td>PowerTransformer</td>\n",
              "      <td>17.4</td>\n",
              "      <td>0.770879</td>\n",
              "      <td>0.71±0.01</td>\n",
              "      <td>0.71±0.01</td>\n",
              "    </tr>\n",
              "    <tr>\n",
              "      <th>10</th>\n",
              "      <td>SVC_minmax</td>\n",
              "      <td>SVC</td>\n",
              "      <td>MinMaxScaler</td>\n",
              "      <td>150.1</td>\n",
              "      <td>0.770564</td>\n",
              "      <td>0.68±0.0</td>\n",
              "      <td>0.68±0.0</td>\n",
              "    </tr>\n",
              "    <tr>\n",
              "      <th>11</th>\n",
              "      <td>SVC_maxabs</td>\n",
              "      <td>SVC</td>\n",
              "      <td>MaxAbsScaler</td>\n",
              "      <td>150.1</td>\n",
              "      <td>0.770564</td>\n",
              "      <td>0.68±0.0</td>\n",
              "      <td>0.68±0.0</td>\n",
              "    </tr>\n",
              "    <tr>\n",
              "      <th>8</th>\n",
              "      <td>SVC_quantile</td>\n",
              "      <td>SVC</td>\n",
              "      <td>QuantileTransformer</td>\n",
              "      <td>144.9</td>\n",
              "      <td>0.769303</td>\n",
              "      <td>0.68±0.0</td>\n",
              "      <td>0.68±0.0</td>\n",
              "    </tr>\n",
              "    <tr>\n",
              "      <th>30</th>\n",
              "      <td>LDA_standard</td>\n",
              "      <td>LinearDiscriminantAnalysis</td>\n",
              "      <td>StandardScaler</td>\n",
              "      <td>3.0</td>\n",
              "      <td>0.768988</td>\n",
              "      <td>0.71±0.01</td>\n",
              "      <td>0.71±0.01</td>\n",
              "    </tr>\n",
              "  </tbody>\n",
              "</table>\n",
              "</div>"
            ],
            "text/plain": [
              "      Model name  ... 5-fold validation\n",
              "19     RF_robust  ...         0.74±0.01\n",
              "18   RF_standard  ...         0.75±0.01\n",
              "22     RF_minmax  ...         0.75±0.01\n",
              "20   RF_quantile  ...         0.75±0.01\n",
              "21      RF_power  ...         0.75±0.01\n",
              "23     RF_maxabs  ...         0.75±0.01\n",
              "15      DT_power  ...         0.67±0.02\n",
              "14   DT_quantile  ...         0.66±0.02\n",
              "12   DT_standard  ...         0.67±0.02\n",
              "13     DT_robust  ...         0.66±0.01\n",
              "16     DT_minmax  ...         0.66±0.02\n",
              "17     DT_maxabs  ...         0.67±0.02\n",
              "39      LR_power  ...         0.69±0.01\n",
              "32  LDA_quantile  ...         0.71±0.01\n",
              "38   LR_quantile  ...         0.69±0.01\n",
              "33     LDA_power  ...         0.71±0.01\n",
              "10    SVC_minmax  ...          0.68±0.0\n",
              "11    SVC_maxabs  ...          0.68±0.0\n",
              "8   SVC_quantile  ...          0.68±0.0\n",
              "30  LDA_standard  ...         0.71±0.01\n",
              "\n",
              "[20 rows x 7 columns]"
            ]
          },
          "metadata": {
            "tags": []
          },
          "execution_count": 166
        }
      ]
    },
    {
      "cell_type": "markdown",
      "metadata": {
        "id": "Wayk9T-pfJ1Z"
      },
      "source": [
        "**RANKINGS**"
      ]
    },
    {
      "cell_type": "code",
      "metadata": {
        "id": "RasJzHowTdvP"
      },
      "source": [
        "plt.rcParams[\"figure.dpi\"] = 100"
      ],
      "execution_count": null,
      "outputs": []
    },
    {
      "cell_type": "code",
      "metadata": {
        "colab": {
          "base_uri": "https://localhost:8080/",
          "height": 411
        },
        "id": "Cs6WVGJoVYW1",
        "outputId": "c7291f4c-cdb5-4972-95e8-f737ee3d81f3"
      },
      "source": [
        "results[['Model name','Training time (s)']].sort_values(by='Training time (s)',ascending=False).head(10).plot.bar(x='Model name', figsize=(4,3))\n",
        "plt.title('Training time ranking',weight='bold', size = 12)\n",
        "plt.show()"
      ],
      "execution_count": null,
      "outputs": [
        {
          "output_type": "display_data",
          "data": {
            "image/png": "[encoded data removed]",
            "text/plain": [
              "<Figure size 400x300 with 1 Axes>"
            ]
          },
          "metadata": {
            "tags": [],
            "needs_background": "light"
          }
        }
      ]
    },
    {
      "cell_type": "code",
      "metadata": {
        "colab": {
          "base_uri": "https://localhost:8080/",
          "height": 403
        },
        "id": "TnP4hr2TOrj9",
        "outputId": "17f71e32-a13f-4058-d332-916d22c496fe"
      },
      "source": [
        "results[['Model name','Accuracy']].sort_values(by='Accuracy',ascending=False).head(10).plot.bar(x='Model name', ylim =[0.948,0.958], figsize=(4,3))\n",
        "plt.title('Model x Normalization ranking',weight='bold', size = 12)\n",
        "plt.show()"
      ],
      "execution_count": null,
      "outputs": [
        {
          "output_type": "display_data",
          "data": {
            "image/png": "[encoded data removed]",
            "text/plain": [
              "<Figure size 400x300 with 1 Axes>"
            ]
          },
          "metadata": {
            "tags": [],
            "needs_background": "light"
          }
        }
      ]
    },
    {
      "cell_type": "code",
      "metadata": {
        "colab": {
          "base_uri": "https://localhost:8080/",
          "height": 503
        },
        "id": "bb4Xhxz1SGFs",
        "outputId": "3cb14adf-e90f-49fa-fb12-ca333003f22e"
      },
      "source": [
        "results[['Model used','Accuracy']].groupby(['Model used']).mean().sort_values(by='Accuracy',ascending=False).plot.bar(figsize=(4,3), ylim=[0.36,1.0])\n",
        "plt.title('Model ranking',weight='bold', size = 12)\n",
        "plt.show()"
      ],
      "execution_count": null,
      "outputs": [
        {
          "output_type": "display_data",
          "data": {
            "image/png": "[encoded data removed]",
            "text/plain": [
              "<Figure size 400x300 with 1 Axes>"
            ]
          },
          "metadata": {
            "tags": [],
            "needs_background": "light"
          }
        }
      ]
    },
    {
      "cell_type": "code",
      "metadata": {
        "colab": {
          "base_uri": "https://localhost:8080/",
          "height": 457
        },
        "id": "fk1zRO5nUKmv",
        "outputId": "09c0bf90-e893-4a18-e4b4-efb8f39920ba"
      },
      "source": [
        "results[['Normalization method','Accuracy']].groupby(['Normalization method']).mean().sort_values(by='Accuracy',ascending=False).plot.bar(figsize=(4,3), ylim=[0.75,0.79])\n",
        "plt.title('Normalization method ranking',weight='bold', size = 12)\n",
        "plt.show()"
      ],
      "execution_count": null,
      "outputs": [
        {
          "output_type": "display_data",
          "data": {
            "image/png": "[encoded data removed]",
            "text/plain": [
              "<Figure size 400x300 with 1 Axes>"
            ]
          },
          "metadata": {
            "tags": [],
            "needs_background": "light"
          }
        }
      ]
    }
  ]
}